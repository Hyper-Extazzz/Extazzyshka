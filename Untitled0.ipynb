Var0 = probability_model(x_test[0:1])
print(Var0)

Var12 = probability_model(x_test[11:12])
print(Var12)

Var146 = probability_model(x_test[145:146])
print(Var146)


from matplotlib import pyplot as plt
import numpy as np

def gen_image(arr):
    two_d = (np.reshape(arr, (28, 28)) * 255).astype(np.uint8)
    plt.imshow(two_d, interpolation='nearest')
    return plt

gen_image(x_test[0]).show()
gen_image(x_test[11]).show()
gen_image(x_test[145]).show()
